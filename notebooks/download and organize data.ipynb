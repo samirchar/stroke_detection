{
 "cells": [
  {
   "cell_type": "code",
   "execution_count": 1,
   "id": "b40f283a",
   "metadata": {},
   "outputs": [],
   "source": [
    "import os\n",
    "import sys\n",
    "HOME = os.path.abspath('..')\n",
    "sys.path.append(HOME)\n",
    "os.chdir(HOME)"
   ]
  },
  {
   "cell_type": "code",
   "execution_count": 2,
   "id": "38d41fcd",
   "metadata": {},
   "outputs": [],
   "source": [
    "import glob\n",
    "import zipfile\n",
    "import shutil\n",
    "import selenium"
   ]
  },
  {
   "cell_type": "code",
   "execution_count": 3,
   "id": "d328b44e",
   "metadata": {},
   "outputs": [],
   "source": [
    "from selenium import webdriver\n",
    "from selenium.webdriver.support.ui import WebDriverWait\n",
    "from selenium.webdriver.support import expected_conditions as EC\n",
    "from selenium.webdriver.common.by import By\n",
    "from selenium.webdriver.common.keys import Keys\n",
    "from selenium.common.exceptions import TimeoutException\n",
    "import csv\n",
    "import time\n",
    "import numpy as np\n"
   ]
  },
  {
   "cell_type": "code",
   "execution_count": 86,
   "id": "6fecda32",
   "metadata": {},
   "outputs": [],
   "source": [
    "def download_wait(directory, timeout, nfiles=None):\n",
    "    \"\"\"\n",
    "    Wait for downloads to finish with a specified timeout.\n",
    "\n",
    "    Args\n",
    "    ----\n",
    "    directory : str\n",
    "        The path to the folder where the files will be downloaded.\n",
    "    timeout : int\n",
    "        How many seconds to wait until timing out.\n",
    "    nfiles : int, defaults to None\n",
    "        If provided, also wait for the expected number of files.\n",
    "\n",
    "    \"\"\"\n",
    "    seconds = 0\n",
    "    dl_wait = True\n",
    "    while dl_wait and seconds < timeout:\n",
    "        time.sleep(1)\n",
    "        dl_wait = False\n",
    "        files = os.listdir(directory)\n",
    "        if nfiles and len(files) != nfiles:\n",
    "            dl_wait = True\n",
    "\n",
    "        for fname in files:\n",
    "            if fname.endswith('.crdownload'):\n",
    "                dl_wait = True\n",
    "\n",
    "        seconds += 1\n",
    "    return seconds"
   ]
  },
  {
   "cell_type": "code",
   "execution_count": 89,
   "id": "d3cfca66",
   "metadata": {},
   "outputs": [
    {
     "data": {
      "text/plain": [
       "['.DS_Store', '.gitkeep', 'Files_FASTr_2022-02-27_2017.zip']"
      ]
     },
     "execution_count": 89,
     "metadata": {},
     "output_type": "execute_result"
    }
   ],
   "source": [
    "os.listdir('data/raw/')"
   ]
  },
  {
   "cell_type": "code",
   "execution_count": 96,
   "id": "b4f6236e",
   "metadata": {},
   "outputs": [
    {
     "name": "stderr",
     "output_type": "stream",
     "text": [
      "/var/folders/wv/wnp63btd64s2bhtnx7107dsm0000gn/T/ipykernel_17752/1122330729.py:4: DeprecationWarning: executable_path has been deprecated, please pass in a Service object\n",
      "  DRIVER = webdriver.Chrome('../../../../Desktop/Drivers/chromedriver',options=chrome_options)\n"
     ]
    }
   ],
   "source": [
    "\n",
    "chrome_options = webdriver.ChromeOptions()\n",
    "prefs = {'download.default_directory' : '/Users/samirchar/Google_Drive/Masters/DSI Scholars/stroke_detection/data/raw'}\n",
    "chrome_options.add_experimental_option('prefs', prefs)\n",
    "DRIVER = webdriver.Chrome('../../../../Desktop/Drivers/chromedriver',options=chrome_options)\n",
    "DRIVER.get(\"https://web.neuro.columbia.edu/redcap/redcap_v12.1.2/index.php?pid=465\")\n"
   ]
  },
  {
   "cell_type": "code",
   "execution_count": 97,
   "id": "dca1cdf4",
   "metadata": {},
   "outputs": [],
   "source": [
    "num_records=77\n",
    "\n",
    "for idx in range(1,num_records+1):\n",
    "    DRIVER.get(f\"https://web.neuro.columbia.edu/redcap/redcap_v12.1.2/DataExport/file_export_zip.php?pid=465&id={idx}\")\n",
    "    \n",
    "    while glob.glob('data/raw/*.zip')==[]:\n",
    "        time.sleep(2)\n",
    "    \n",
    "    folder_name = glob.glob('data/raw/*.zip')[0].split('/')[-1]\n",
    "    os.rename(f'data/raw/{folder_name}',f'data/raw/{folder_name.split(\".\")[0]}_ID={idx}.zip')\n",
    "    \n",
    "    shutil.move(f'data/raw/{folder_name.split(\".\")[0]}_ID={idx}.zip',\n",
    "                f'data/raw/temp/{folder_name.split(\".\")[0]}_ID={idx}.zip')\n",
    "    "
   ]
  },
  {
   "cell_type": "code",
   "execution_count": 99,
   "id": "03b34761",
   "metadata": {},
   "outputs": [],
   "source": [
    "all_zip_files = glob.glob('data/raw/temp/*.zip')"
   ]
  },
  {
   "cell_type": "code",
   "execution_count": 102,
   "id": "70149407",
   "metadata": {},
   "outputs": [],
   "source": [
    "os.mkdir('data/raw/temp2/')"
   ]
  },
  {
   "cell_type": "code",
   "execution_count": 109,
   "id": "bffc6de6",
   "metadata": {},
   "outputs": [],
   "source": [
    "with zipfile.ZipFile(all_zip_files[0], 'r') as zip_ref:\n",
    "        zip_ref.extractall('data/raw/temp2/')"
   ]
  },
  {
   "cell_type": "code",
   "execution_count": 183,
   "id": "54164274",
   "metadata": {},
   "outputs": [],
   "source": [
    "for i in sorted(all_zip_files):\n",
    "    \n",
    "    with zipfile.ZipFile(i, 'r') as zip_ref:\n",
    "        zip_ref.extractall('data/raw/temp2/')\n",
    "        \n",
    "    folder_zip_name = i.split('.')[0].replace('temp','temp2')\n",
    "    #folder_name = glob.glob('data/raw/temp2/Files*')[0]\n",
    "        \n",
    "    #os.rename(folder_name,folder_zip_name)\n",
    "    \n",
    "    #shutil.move(folder_name,folder_zip_name)\n",
    "    \n",
    "    time.sleep(1)\n",
    "    videos = glob.glob('/'.join(('_'.join(folder_zip_name.split('_')[:-1])).split('/')) + '/documents/*')\n",
    "    \n",
    "    for v in videos:\n",
    "        shutil.move(v,f'data/raw/{v.split(\"/\")[-1]}')\n"
   ]
  },
  {
   "cell_type": "code",
   "execution_count": 181,
   "id": "1ecb78f3",
   "metadata": {},
   "outputs": [
    {
     "data": {
      "text/plain": [
       "'data/raw/temp2/Files_FASTr_2022-02-27_2026'"
      ]
     },
     "execution_count": 181,
     "metadata": {},
     "output_type": "execute_result"
    }
   ],
   "source": []
  },
  {
   "cell_type": "code",
   "execution_count": 178,
   "id": "099f1896",
   "metadata": {},
   "outputs": [
    {
     "data": {
      "text/plain": [
       "'Files_FASTr_2022-02-27_2026/documents/*'"
      ]
     },
     "execution_count": 178,
     "metadata": {},
     "output_type": "execute_result"
    }
   ],
   "source": [
    "('_'.join(folder_zip_name.split('_')[:-1])).split('/')[-1] + '/documents/*'"
   ]
  },
  {
   "cell_type": "code",
   "execution_count": 170,
   "id": "87c49861",
   "metadata": {},
   "outputs": [
    {
     "data": {
      "text/plain": [
       "'data/raw/temp2/Files_FASTr_2022-02-27_2026_ID=1'"
      ]
     },
     "execution_count": 170,
     "metadata": {},
     "output_type": "execute_result"
    }
   ],
   "source": [
    "folder_zip_name"
   ]
  },
  {
   "cell_type": "code",
   "execution_count": 152,
   "id": "316174ea",
   "metadata": {},
   "outputs": [],
   "source": [
    "a=all_zip_files[0].split('.')[0].replace('temp','temp2')"
   ]
  },
  {
   "cell_type": "code",
   "execution_count": 164,
   "id": "43c085b5",
   "metadata": {},
   "outputs": [
    {
     "data": {
      "text/plain": [
       "'data/raw/temp2/Files_FASTr_2022-02-27_2031_ID=77/Files_FASTr_2022-02-27_2031'"
      ]
     },
     "execution_count": 164,
     "metadata": {},
     "output_type": "execute_result"
    }
   ],
   "source": [
    "folder_zip_name+'/'+('_'.join(folder_zip_name.split('_')[:-1])).split('/')[-1]"
   ]
  },
  {
   "cell_type": "code",
   "execution_count": 162,
   "id": "f767e7af",
   "metadata": {},
   "outputs": [
    {
     "data": {
      "text/plain": [
       "'data/raw/temp2/Files_FASTr_2022-02-27_2031'"
      ]
     },
     "execution_count": 162,
     "metadata": {},
     "output_type": "execute_result"
    }
   ],
   "source": [
    "'_'.join(folder_zip_name.split('_')[:-1])"
   ]
  },
  {
   "cell_type": "code",
   "execution_count": 158,
   "id": "97e06178",
   "metadata": {},
   "outputs": [
    {
     "data": {
      "text/plain": [
       "'data/raw/temp2/Files_FASTr_2022-02-27_2029'"
      ]
     },
     "execution_count": 158,
     "metadata": {},
     "output_type": "execute_result"
    }
   ],
   "source": [
    "'_'.join(a.split('_')[:-1])"
   ]
  },
  {
   "cell_type": "code",
   "execution_count": 149,
   "id": "99d84fa3",
   "metadata": {},
   "outputs": [
    {
     "data": {
      "text/plain": [
       "'data/raw/temp2/Files_FASTr_2022-02-27_2031_ID=76'"
      ]
     },
     "execution_count": 149,
     "metadata": {},
     "output_type": "execute_result"
    }
   ],
   "source": [
    "folder_name"
   ]
  },
  {
   "cell_type": "code",
   "execution_count": 131,
   "id": "89208b25",
   "metadata": {},
   "outputs": [
    {
     "data": {
      "text/plain": [
       "('data/raw/temp/Files_FASTr_2022-02-27_2029_ID=39',\n",
       " 'data/raw/temp2/Files_FASTr_2022-02-27_2029')"
      ]
     },
     "execution_count": 131,
     "metadata": {},
     "output_type": "execute_result"
    }
   ],
   "source": [
    "folder_zip_name,folder_name"
   ]
  },
  {
   "cell_type": "code",
   "execution_count": 19,
   "id": "5595937a",
   "metadata": {},
   "outputs": [],
   "source": [
    "folder_name = 'data/raw/temp/Files_FASTr_2022-02-27_1853'"
   ]
  },
  {
   "cell_type": "code",
   "execution_count": 25,
   "id": "b5696827",
   "metadata": {},
   "outputs": [],
   "source": [
    "videos = glob.glob(folder_name + '/documents/*')[0]"
   ]
  },
  {
   "cell_type": "code",
   "execution_count": 27,
   "id": "c3442d19",
   "metadata": {},
   "outputs": [
    {
     "data": {
      "text/plain": [
       "'31_speech_sunny.MOV'"
      ]
     },
     "execution_count": 27,
     "metadata": {},
     "output_type": "execute_result"
    }
   ],
   "source": []
  },
  {
   "cell_type": "code",
   "execution_count": 22,
   "id": "733ba625",
   "metadata": {},
   "outputs": [
    {
     "data": {
      "text/plain": [
       "['31_speech_sunny.MOV',\n",
       " '31_speech_greece.MOV',\n",
       " '31_face_eye_close.MOV',\n",
       " '31_face_tongue_out.MOV',\n",
       " '31_face_eyebrow.MOV',\n",
       " '31_face_smile.MOV',\n",
       " '31_speech_washington.MOV',\n",
       " '31_face_rest.MOV']"
      ]
     },
     "execution_count": 22,
     "metadata": {},
     "output_type": "execute_result"
    }
   ],
   "source": [
    "os.listdir('data/raw/temp/Files_FASTr_2022-02-27_1853/documents')"
   ]
  },
  {
   "cell_type": "code",
   "execution_count": null,
   "id": "d29301fd",
   "metadata": {},
   "outputs": [],
   "source": []
  }
 ],
 "metadata": {
  "kernelspec": {
   "display_name": "Python 3 (ipykernel)",
   "language": "python",
   "name": "python3"
  },
  "language_info": {
   "codemirror_mode": {
    "name": "ipython",
    "version": 3
   },
   "file_extension": ".py",
   "mimetype": "text/x-python",
   "name": "python",
   "nbconvert_exporter": "python",
   "pygments_lexer": "ipython3",
   "version": "3.9.7"
  }
 },
 "nbformat": 4,
 "nbformat_minor": 5
}
