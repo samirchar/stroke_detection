{
 "cells": [
  {
   "cell_type": "code",
   "execution_count": 2,
   "id": "5c534353",
   "metadata": {},
   "outputs": [
    {
     "name": "stdout",
     "output_type": "stream",
     "text": [
      "Collecting https://github.com/vgoehler/PyEVM/archive/master.zip\n",
      "  Downloading https://github.com/vgoehler/PyEVM/archive/master.zip\n",
      "\u001b[K     \\ 202 kB 1.5 MB/ss\n",
      "\u001b[?25hRequirement already satisfied: numpy>=1.18.0 in /opt/anaconda3/lib/python3.7/site-packages (from PyEVM==0.4.2) (1.21.5)\n",
      "Requirement already satisfied: opencv-python>=4.1.2.30 in /opt/anaconda3/lib/python3.7/site-packages (from PyEVM==0.4.2) (4.5.5.62)\n",
      "Requirement already satisfied: scipy>=1.4.1 in /opt/anaconda3/lib/python3.7/site-packages (from PyEVM==0.4.2) (1.4.1)\n",
      "Building wheels for collected packages: PyEVM\n",
      "  Building wheel for PyEVM (setup.py) ... \u001b[?25ldone\n",
      "\u001b[?25h  Created wheel for PyEVM: filename=PyEVM-0.4.2-py2.py3-none-any.whl size=12687 sha256=91ce058a78e0d8c10107ccf1d3b89e248090ac8b879baef529376aedd63480af\n",
      "  Stored in directory: /private/var/folders/wv/wnp63btd64s2bhtnx7107dsm0000gn/T/pip-ephem-wheel-cache-w3jhhh5s/wheels/2a/cc/61/f6187d80b09934d3481adcad9035096cc3cf675f7ac55a9bf9\n",
      "Successfully built PyEVM\n",
      "Installing collected packages: PyEVM\n",
      "Successfully installed PyEVM-0.4.2\n"
     ]
    }
   ],
   "source": [
    "!pip install https://github.com/vgoehler/PyEVM/archive/master.zip"
   ]
  },
  {
   "cell_type": "code",
   "execution_count": 3,
   "id": "c513dfc9",
   "metadata": {},
   "outputs": [],
   "source": [
    "import os\n",
    "import sys\n",
    "HOME = os.path.abspath('..')\n",
    "sys.path.append(HOME)\n",
    "os.chdir(HOME)"
   ]
  },
  {
   "cell_type": "code",
   "execution_count": null,
   "id": "56035be8",
   "metadata": {},
   "outputs": [],
   "source": [
    "DUMMY_DATA_PATH = 'data/dummy_data/'\n",
    "DUMMY_DATA_2_PATH = DUMMY_DATA_PATH+'samir/'\n",
    "video = torchvision.io.read_video('data/raw/3_face_smile.mov')"
   ]
  },
  {
   "cell_type": "code",
   "execution_count": 4,
   "id": "6be05d65",
   "metadata": {},
   "outputs": [
    {
     "name": "stdout",
     "output_type": "stream",
     "text": [
      "CRITICAL:root:Input is not a video file. Only supports avi, mpg, mpeg, mp4\r\n"
     ]
    }
   ],
   "source": [
    "!python3 -mpython_eulerian_video_magnification data/raw/3_face_smile.mov"
   ]
  },
  {
   "cell_type": "code",
   "execution_count": null,
   "id": "d46d3125",
   "metadata": {},
   "outputs": [],
   "source": []
  }
 ],
 "metadata": {
  "kernelspec": {
   "display_name": "Python 3",
   "language": "python",
   "name": "python3"
  },
  "language_info": {
   "codemirror_mode": {
    "name": "ipython",
    "version": 3
   },
   "file_extension": ".py",
   "mimetype": "text/x-python",
   "name": "python",
   "nbconvert_exporter": "python",
   "pygments_lexer": "ipython3",
   "version": "3.7.10"
  }
 },
 "nbformat": 4,
 "nbformat_minor": 5
}
