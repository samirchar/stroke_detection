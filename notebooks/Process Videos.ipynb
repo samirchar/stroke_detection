{
 "cells": [
  {
   "cell_type": "code",
   "execution_count": 3,
   "id": "f60ee92f",
   "metadata": {},
   "outputs": [],
   "source": [
    "import os\n",
    "import sys\n",
    "HOME = os.path.abspath('../src')\n",
    "sys.path.append(HOME)\n",
    "os.chdir(HOME)"
   ]
  },
  {
   "cell_type": "code",
   "execution_count": 5,
   "id": "60e85ca2",
   "metadata": {},
   "outputs": [],
   "source": [
    "import torchvision\n",
    "import dlib\n",
    "from PIL import Image\n",
    "from imutils import face_utils\n",
    "from data.dataprep_mediapipe import VideoProcessor\n",
    "from data.imgutils import *\n",
    "from features.features_extractors_mediapipe import *\n",
    "import pandas as pd\n",
    "import seaborn as sns"
   ]
  },
  {
   "cell_type": "code",
   "execution_count": 9,
   "id": "ccdc1893",
   "metadata": {},
   "outputs": [
    {
     "data": {
      "text/plain": [
       "'/Users/samirchar/Google_Drive/Masters/DSI Scholars/stroke_detection'"
      ]
     },
     "execution_count": 9,
     "metadata": {},
     "output_type": "execute_result"
    }
   ],
   "source": [
    "os.getcwd()"
   ]
  },
  {
   "cell_type": "code",
   "execution_count": 8,
   "id": "9a6d84b2",
   "metadata": {},
   "outputs": [],
   "source": [
    "FILTER = 'face_smile'\n",
    "IMG_SIZE = 224\n",
    "input_directory = '../data/raw'\n",
    "output_directory = '../data/processed'\n",
    "video_processor = VideoProcessor(input_directory,\n",
    "                                 output_directory)\n",
    "\n",
    "patiend_ids = set([int(i.split('_')[0]) for i in video_processor.video_filter(input_directory,video_type=FILTER)])\n",
    "processed_ids = set([int(i.split('_')[0]) for i in video_processor.video_filter(output_directory,extension='pkl',video_type=FILTER)])\n",
    "remaining_ids = patiend_ids-processed_ids\n"
   ]
  },
  {
   "cell_type": "code",
   "execution_count": 9,
   "id": "3a9d5759",
   "metadata": {},
   "outputs": [
    {
     "data": {
      "text/plain": [
       "{65, 66, 67, 68, 69, 70, 71, 72, 73, 74, 75, 76, 77, 78, 79, 80, 81}"
      ]
     },
     "execution_count": 9,
     "metadata": {},
     "output_type": "execute_result"
    }
   ],
   "source": [
    "remaining_ids"
   ]
  },
  {
   "cell_type": "code",
   "execution_count": 11,
   "id": "fd012e23",
   "metadata": {},
   "outputs": [],
   "source": [
    "p_id = next(iter(remaining_ids))\n",
    "\n",
    "video_processor = VideoProcessor(input_directory,\n",
    "                                 output_directory)\n",
    "video_names = video_processor.video_filter(input_directory,p_id)\n",
    "video_processor.read(video_names)\n"
   ]
  },
  {
   "cell_type": "code",
   "execution_count": 12,
   "id": "27ed0921",
   "metadata": {},
   "outputs": [],
   "source": [
    "video_processor.pre_process()"
   ]
  },
  {
   "cell_type": "code",
   "execution_count": 5,
   "id": "394c38fc",
   "metadata": {},
   "outputs": [
    {
     "data": {
      "text/plain": [
       "'\\nleft_magnitudes_temp_flipped = [cv2.flip(i,1) for i in left_magnitudes_temp]\\n\\nright_magnitudes_temp_cropped = []\\nfor i in range(len(left_magnitudes_temp_flipped)):\\n    hlf,wlf = left_magnitudes_temp_flipped[i].shape\\n    hrf,wrf = right_magnitudes_temp[i].shape\\n    h_i = min(hlf,hrf)\\n    w_i = min(wlf,wrf)\\n    \\n    right_magnitudes_temp_cropped.append(right_magnitudes_temp[i][:h_i,:w_i])\\n\\nbilateral_differences = [l-r for l,r in zip(left_magnitudes_temp_flipped,right_magnitudes_temp_cropped)]\\n'"
      ]
     },
     "execution_count": 5,
     "metadata": {},
     "output_type": "execute_result"
    }
   ],
   "source": [
    "'''\n",
    "left_magnitudes_temp_flipped = [cv2.flip(i,1) for i in left_magnitudes_temp]\n",
    "\n",
    "right_magnitudes_temp_cropped = []\n",
    "for i in range(len(left_magnitudes_temp_flipped)):\n",
    "    hlf,wlf = left_magnitudes_temp_flipped[i].shape\n",
    "    hrf,wrf = right_magnitudes_temp[i].shape\n",
    "    h_i = min(hlf,hrf)\n",
    "    w_i = min(wlf,wrf)\n",
    "    \n",
    "    right_magnitudes_temp_cropped.append(right_magnitudes_temp[i][:h_i,:w_i])\n",
    "\n",
    "bilateral_differences = [l-r for l,r in zip(left_magnitudes_temp_flipped,right_magnitudes_temp_cropped)]\n",
    "'''"
   ]
  },
  {
   "cell_type": "markdown",
   "id": "c16a475b",
   "metadata": {},
   "source": [
    "# Run all Video V2"
   ]
  },
  {
   "cell_type": "code",
   "execution_count": 6,
   "id": "3246a2bc",
   "metadata": {},
   "outputs": [],
   "source": [
    "import cv2\n",
    "import time\n",
    "\n",
    "\n",
    "def extract_features(processed_video_path,optical_flow_threshold = 3):\n",
    "\n",
    "    #Init\n",
    "    rfev2 = ROIFlowExtractorV2(optical_flow_threshold)\n",
    "\n",
    "    video_iterator = iter(read_pickle(processed_video_path))\n",
    "\n",
    "    first_frame = next(video_iterator)\n",
    "    frame_prev,face_prev  = first_frame['frame'],first_frame['face_data']\n",
    "    h,w,_ = frame_prev.shape\n",
    "    processed_landmarks_prev = face_prev['processed_landmarks']\n",
    "\n",
    "    left_of_frames = []\n",
    "    right_of_frames = []\n",
    "    frames_drawn = []\n",
    "    all_face_objs = []\n",
    "\n",
    "    #OF first, then crop\n",
    "    lm_scores = []\n",
    "    rm_scores = [] \n",
    "\n",
    "    face_mags = []\n",
    "    face_mags_filtered = []\n",
    "    \n",
    "    head_pose = []\n",
    "    processed_landmarks_normalized_sequence = [face_prev['processed_landmarks_normalized_v2']]\n",
    "\n",
    "    for processed_frame in video_iterator:\n",
    "\n",
    "        frame,face  = processed_frame['frame'],processed_frame['face_data']\n",
    "\n",
    "        processed_landmarks_normalized_sequence.append(face['processed_landmarks_normalized_v2'])\n",
    "        processed_landmarks = face['processed_landmarks']\n",
    "        \n",
    "        head_pose.append(face['pose'])\n",
    "\n",
    "        #OF Movement V2:\n",
    "        rfev2.face_flow(frame_prev,frame)\n",
    "        rfev2.all_regions_movement(processed_landmarks,['mouth'])\n",
    "\n",
    "        # Updates previous frame info\n",
    "        frame_prev = frame.copy()\n",
    "        face_prev = face.copy()\n",
    "        processed_landmarks_prev = processed_landmarks.copy()\n",
    "\n",
    "    bac = BarycentricAsymmetryCalculator()\n",
    "\n",
    "    asymmetry_index_df = bac.get_indexes_video(processed_landmarks_normalized_sequence)\n",
    "    asymmetry_stats = bac.get_indexes_stats_video(asymmetry_index_df)\n",
    "    movement_df = rfev2.to_df()\n",
    "\n",
    "    temp = pd.DataFrame([[np.nan] * len(movement_df.columns)], columns=movement_df.columns)\n",
    "    movement_df = temp.append(movement_df, ignore_index=True)\n",
    "    \n",
    "    head_pose_df = pd.DataFrame(head_pose,columns=['pitch','yaw','roll'])\n",
    "    df = pd.concat([movement_df,asymmetry_index_df,head_pose_df],axis=1)\n",
    "    \n",
    "    return df"
   ]
  },
  {
   "cell_type": "code",
   "execution_count": 13,
   "id": "0ff99fcc",
   "metadata": {},
   "outputs": [],
   "source": [
    "video_list = video_processor.video_filter(output_directory,\n",
    "                                          extension='pkl',\n",
    "                                          video_type='face_smile',\n",
    "                                          #patient_id=3\n",
    "                                         )"
   ]
  },
  {
   "cell_type": "code",
   "execution_count": 15,
   "id": "ab5e78fc",
   "metadata": {},
   "outputs": [
    {
     "name": "stdout",
     "output_type": "stream",
     "text": [
      "1.3333333333333333\n",
      "2.6666666666666665\n",
      "4.0\n",
      "5.333333333333333\n",
      "6.666666666666667\n",
      "8.0\n",
      "9.333333333333334\n",
      "10.666666666666666\n",
      "12.0\n",
      "13.333333333333334\n",
      "14.666666666666666\n",
      "16.0\n",
      "17.333333333333332\n",
      "18.666666666666668\n",
      "20.0\n",
      "21.333333333333332\n",
      "22.666666666666668\n",
      "24.0\n",
      "25.333333333333332\n",
      "26.666666666666668\n",
      "28.0\n",
      "29.333333333333332\n",
      "30.666666666666668\n",
      "32.0\n",
      "33.333333333333336\n",
      "34.666666666666664\n",
      "36.0\n",
      "37.333333333333336\n",
      "38.666666666666664\n",
      "40.0\n",
      "41.333333333333336\n",
      "42.666666666666664\n",
      "44.0\n",
      "45.333333333333336\n",
      "46.666666666666664\n",
      "48.0\n",
      "49.333333333333336\n",
      "50.666666666666664\n",
      "52.0\n",
      "53.333333333333336\n",
      "54.666666666666664\n",
      "56.0\n",
      "57.333333333333336\n",
      "58.666666666666664\n",
      "60.0\n",
      "61.333333333333336\n",
      "62.666666666666664\n"
     ]
    },
    {
     "ename": "ModuleNotFoundError",
     "evalue": "No module named 'data.dataprep_mediapipe'",
     "output_type": "error",
     "traceback": [
      "\u001b[0;31m---------------------------------------------------------------------------\u001b[0m",
      "\u001b[0;31mModuleNotFoundError\u001b[0m                       Traceback (most recent call last)",
      "\u001b[0;32m<ipython-input-15-b3c1f497b176>\u001b[0m in \u001b[0;36m<module>\u001b[0;34m\u001b[0m\n\u001b[1;32m      3\u001b[0m \u001b[0mnum_videos\u001b[0m \u001b[0;34m=\u001b[0m \u001b[0mlen\u001b[0m\u001b[0;34m(\u001b[0m\u001b[0mvideo_list\u001b[0m\u001b[0;34m)\u001b[0m\u001b[0;34m\u001b[0m\u001b[0;34m\u001b[0m\u001b[0m\n\u001b[1;32m      4\u001b[0m \u001b[0;32mfor\u001b[0m \u001b[0mv\u001b[0m \u001b[0;32min\u001b[0m \u001b[0mvideo_list\u001b[0m\u001b[0;34m:\u001b[0m\u001b[0;34m\u001b[0m\u001b[0;34m\u001b[0m\u001b[0m\n\u001b[0;32m----> 5\u001b[0;31m     \u001b[0mdf_temp\u001b[0m \u001b[0;34m=\u001b[0m \u001b[0mextract_features\u001b[0m\u001b[0;34m(\u001b[0m\u001b[0mos\u001b[0m\u001b[0;34m.\u001b[0m\u001b[0mpath\u001b[0m\u001b[0;34m.\u001b[0m\u001b[0mjoin\u001b[0m\u001b[0;34m(\u001b[0m\u001b[0moutput_directory\u001b[0m\u001b[0;34m,\u001b[0m\u001b[0mv\u001b[0m\u001b[0;34m)\u001b[0m\u001b[0;34m)\u001b[0m\u001b[0;34m\u001b[0m\u001b[0;34m\u001b[0m\u001b[0m\n\u001b[0m\u001b[1;32m      6\u001b[0m     \u001b[0mdf_temp\u001b[0m\u001b[0;34m[\u001b[0m\u001b[0;34m'video_name'\u001b[0m\u001b[0;34m]\u001b[0m \u001b[0;34m=\u001b[0m \u001b[0mv\u001b[0m\u001b[0;34m\u001b[0m\u001b[0;34m\u001b[0m\u001b[0m\n\u001b[1;32m      7\u001b[0m     \u001b[0mprint\u001b[0m\u001b[0;34m(\u001b[0m\u001b[0mc\u001b[0m\u001b[0;34m*\u001b[0m\u001b[0;36m100\u001b[0m\u001b[0;34m/\u001b[0m\u001b[0mnum_videos\u001b[0m\u001b[0;34m)\u001b[0m\u001b[0;34m\u001b[0m\u001b[0;34m\u001b[0m\u001b[0m\n",
      "\u001b[0;32m<ipython-input-6-36ee0ccef907>\u001b[0m in \u001b[0;36mextract_features\u001b[0;34m(processed_video_path, optical_flow_threshold)\u001b[0m\n\u001b[1;32m      8\u001b[0m     \u001b[0mrfev2\u001b[0m \u001b[0;34m=\u001b[0m \u001b[0mROIFlowExtractorV2\u001b[0m\u001b[0;34m(\u001b[0m\u001b[0moptical_flow_threshold\u001b[0m\u001b[0;34m)\u001b[0m\u001b[0;34m\u001b[0m\u001b[0;34m\u001b[0m\u001b[0m\n\u001b[1;32m      9\u001b[0m \u001b[0;34m\u001b[0m\u001b[0m\n\u001b[0;32m---> 10\u001b[0;31m     \u001b[0mvideo_iterator\u001b[0m \u001b[0;34m=\u001b[0m \u001b[0miter\u001b[0m\u001b[0;34m(\u001b[0m\u001b[0mread_pickle\u001b[0m\u001b[0;34m(\u001b[0m\u001b[0mprocessed_video_path\u001b[0m\u001b[0;34m)\u001b[0m\u001b[0;34m)\u001b[0m\u001b[0;34m\u001b[0m\u001b[0;34m\u001b[0m\u001b[0m\n\u001b[0m\u001b[1;32m     11\u001b[0m \u001b[0;34m\u001b[0m\u001b[0m\n\u001b[1;32m     12\u001b[0m     \u001b[0mfirst_frame\u001b[0m \u001b[0;34m=\u001b[0m \u001b[0mnext\u001b[0m\u001b[0;34m(\u001b[0m\u001b[0mvideo_iterator\u001b[0m\u001b[0;34m)\u001b[0m\u001b[0;34m\u001b[0m\u001b[0;34m\u001b[0m\u001b[0m\n",
      "\u001b[0;32m~/Google_Drive/Masters/DSI Scholars/stroke_detection/src/utils/data_handler.py\u001b[0m in \u001b[0;36mread_pickle\u001b[0;34m(file_path)\u001b[0m\n\u001b[1;32m      7\u001b[0m \u001b[0;32mdef\u001b[0m \u001b[0mread_pickle\u001b[0m\u001b[0;34m(\u001b[0m\u001b[0mfile_path\u001b[0m\u001b[0;34m:\u001b[0m \u001b[0mstr\u001b[0m\u001b[0;34m)\u001b[0m\u001b[0;34m:\u001b[0m\u001b[0;34m\u001b[0m\u001b[0;34m\u001b[0m\u001b[0m\n\u001b[1;32m      8\u001b[0m     \u001b[0;32mwith\u001b[0m \u001b[0mopen\u001b[0m\u001b[0;34m(\u001b[0m\u001b[0mfile_path\u001b[0m\u001b[0;34m,\u001b[0m\u001b[0;34m'rb'\u001b[0m\u001b[0;34m)\u001b[0m \u001b[0;32mas\u001b[0m \u001b[0mp\u001b[0m\u001b[0;34m:\u001b[0m\u001b[0;34m\u001b[0m\u001b[0;34m\u001b[0m\u001b[0m\n\u001b[0;32m----> 9\u001b[0;31m         \u001b[0mitem\u001b[0m \u001b[0;34m=\u001b[0m \u001b[0mpickle\u001b[0m\u001b[0;34m.\u001b[0m\u001b[0mload\u001b[0m\u001b[0;34m(\u001b[0m\u001b[0mp\u001b[0m\u001b[0;34m)\u001b[0m\u001b[0;34m\u001b[0m\u001b[0;34m\u001b[0m\u001b[0m\n\u001b[0m\u001b[1;32m     10\u001b[0m     \u001b[0;32mreturn\u001b[0m \u001b[0mitem\u001b[0m\u001b[0;34m\u001b[0m\u001b[0;34m\u001b[0m\u001b[0m\n",
      "\u001b[0;31mModuleNotFoundError\u001b[0m: No module named 'data.dataprep_mediapipe'"
     ]
    }
   ],
   "source": [
    "df = []\n",
    "c=1\n",
    "num_videos = len(video_list)\n",
    "for v in video_list:\n",
    "    df_temp = extract_features(os.path.join(output_directory,v))\n",
    "    df_temp['video_name'] = v\n",
    "    print(c*100/num_videos)\n",
    "    c+=1\n",
    "    df.append(df_temp)\n",
    "df = pd.concat(df)"
   ]
  },
  {
   "cell_type": "code",
   "execution_count": null,
   "id": "43d23e31",
   "metadata": {},
   "outputs": [],
   "source": [
    "motion_maxes = df.groupby('video_name')['mouth_left','mouth_right'].max().max(axis=1).reset_index()\n",
    "temp = df.merge(motion_maxes,how='left',on='video_name')\n",
    "df['mouth_left'] = df['mouth_left']/temp[0].values\n",
    "df['mouth_right'] = df['mouth_right']/temp[0].values"
   ]
  },
  {
   "cell_type": "code",
   "execution_count": null,
   "id": "e66ae223",
   "metadata": {},
   "outputs": [],
   "source": [
    "df['mouth_motion_abs_diff'] = (df['mouth_left']-df['mouth_right']).abs()"
   ]
  },
  {
   "cell_type": "code",
   "execution_count": null,
   "id": "f4ba523d",
   "metadata": {},
   "outputs": [],
   "source": [
    "df_stats1 = df.groupby('video_name')[['mouth','pitch','yaw','roll']].describe()\n",
    "df_stats3 = df.groupby('video_name')['mouth_left','mouth_right','mouth_motion_abs_diff'].apply(lambda x: x[x>0].describe()).unstack()\n",
    "\n",
    "df_stats1.columns = ['_'.join(col).strip() for col in df_stats1.columns.values]\n",
    "df_stats3.columns = ['_'.join(col).strip() for col in df_stats3.columns.values]\n",
    "\n",
    "df_stats = pd.concat([df_stats1,df_stats3],axis=1)\n",
    "\n",
    "cols =[i for i in df_stats.columns if ('count' not in i)&('mouth_left' not in i)&('mouth_right' not in i)&('mouth_motion' not in i)]\n",
    "df_stats = df_stats[cols]\n"
   ]
  },
  {
   "cell_type": "code",
   "execution_count": null,
   "id": "370e5d9d",
   "metadata": {},
   "outputs": [],
   "source": [
    "df_stats['mouth_p2a'] = df_stats['mouth_max']/df_stats['mouth_mean']"
   ]
  },
  {
   "cell_type": "code",
   "execution_count": null,
   "id": "d29f4434",
   "metadata": {},
   "outputs": [],
   "source": [
    "df_stats['mouth_p2m'] = df_stats['mouth_max']/df_stats['mouth_min']"
   ]
  },
  {
   "cell_type": "code",
   "execution_count": 1118,
   "id": "18755a70",
   "metadata": {},
   "outputs": [],
   "source": [
    "df_fast = pd.read_csv('data/raw/FASTr_DATA_2022-.csv')\n",
    "df_fast.sort_index(inplace=True)\n",
    "\n",
    "df_stats.reset_index(inplace=True)\n",
    "df_stats['record_id'] = df_stats['video_name'].apply(lambda x: int(x.split('_')[0]))\n",
    "\n",
    "df_stats = df_stats.merge(df_fast[['f_ground_truth','record_id']],how = 'left',on='record_id')\n",
    "\n",
    "df_stats.sort_values(by='record_id',inplace=True)\n",
    "\n",
    "vars_ = df_stats.columns.drop(['f_ground_truth','record_id','video_name'])\n",
    "\n",
    "df_stats_norm = df_stats.copy()\n",
    "df_stats_norm[vars_] = (df_stats[vars_] - df_stats[vars_].mean())/df_stats[vars_].std()"
   ]
  },
  {
   "cell_type": "code",
   "execution_count": 1119,
   "id": "89957b6a",
   "metadata": {},
   "outputs": [],
   "source": [
    "df_stats_norm = df_stats_norm[df_stats_norm.isna().all().index[~df_stats_norm.isna().all()]]\n",
    "df_stats_norm = df_stats_norm[~df_stats_norm.isna().any(axis=1)]\n",
    "#df_stats_norm.sort_index(inplace=True)"
   ]
  },
  {
   "cell_type": "code",
   "execution_count": 1125,
   "id": "70ee7e20",
   "metadata": {},
   "outputs": [
    {
     "data": {
      "text/plain": [
       "<AxesSubplot:xlabel='f_ground_truth', ylabel='mouth_75%'>"
      ]
     },
     "execution_count": 1125,
     "metadata": {},
     "output_type": "execute_result"
    },
    {
     "data": {
      "image/png": "[encoded data removed]",
      "text/plain": [
       "<Figure size 432x288 with 1 Axes>"
      ]
     },
     "metadata": {
      "needs_background": "light"
     },
     "output_type": "display_data"
    }
   ],
   "source": [
    "sns.boxplot(data = df_stats_norm,\n",
    "            y=df_stats['mouth_75%'],\n",
    "            x='f_ground_truth')\n",
    "\n",
    "#plt.ylim(-5,10)"
   ]
  },
  {
   "cell_type": "code",
   "execution_count": 1126,
   "id": "938a30b5",
   "metadata": {},
   "outputs": [
    {
     "data": {
      "text/plain": [
       "<AxesSubplot:xlabel='f_ground_truth', ylabel='mouth_max'>"
      ]
     },
     "execution_count": 1126,
     "metadata": {},
     "output_type": "execute_result"
    },
    {
     "data": {
      "image/png": "[encoded data removed]",
      "text/plain": [
       "<Figure size 432x288 with 1 Axes>"
      ]
     },
     "metadata": {
      "needs_background": "light"
     },
     "output_type": "display_data"
    }
   ],
   "source": [
    "sns.boxplot(data = df_stats_norm,\n",
    "            y=df_stats['mouth_max'],\n",
    "            x='f_ground_truth')\n",
    "\n",
    "#plt.ylim(-5,20)"
   ]
  },
  {
   "cell_type": "code",
   "execution_count": 1127,
   "id": "8857e179",
   "metadata": {},
   "outputs": [
    {
     "data": {
      "text/plain": [
       "<AxesSubplot:xlabel='f_ground_truth', ylabel='mouth_p2a'>"
      ]
     },
     "execution_count": 1127,
     "metadata": {},
     "output_type": "execute_result"
    },
    {
     "data": {
      "image/png": "[encoded data removed]",
      "text/plain": [
       "<Figure size 432x288 with 1 Axes>"
      ]
     },
     "metadata": {
      "needs_background": "light"
     },
     "output_type": "display_data"
    }
   ],
   "source": [
    "sns.boxplot(data = df_stats,y='mouth_p2a',x='f_ground_truth')"
   ]
  },
  {
   "cell_type": "code",
   "execution_count": 1128,
   "id": "acb39f91",
   "metadata": {},
   "outputs": [
    {
     "data": {
      "text/plain": [
       "<AxesSubplot:xlabel='f_ground_truth', ylabel='mouth_p2m'>"
      ]
     },
     "execution_count": 1128,
     "metadata": {},
     "output_type": "execute_result"
    },
    {
     "data": {
      "image/png": "[encoded data removed]",
      "text/plain": [
       "<Figure size 432x288 with 1 Axes>"
      ]
     },
     "metadata": {
      "needs_background": "light"
     },
     "output_type": "display_data"
    }
   ],
   "source": [
    "sns.boxplot(data = df_stats,y='mouth_p2m',x='f_ground_truth')"
   ]
  },
  {
   "cell_type": "code",
   "execution_count": 1129,
   "id": "66d43fd6",
   "metadata": {},
   "outputs": [],
   "source": [
    "from sklearn.linear_model import LogisticRegressionCV,LogisticRegression\n",
    "from sklearn.model_selection import cross_val_score,train_test_split, KFold,cross_val_predict,cross_validate,StratifiedKFold\n",
    "from sklearn.metrics import roc_auc_score,recall_score,precision_score,balanced_accuracy_score,f1_score,make_scorer\n",
    "from itertools import product"
   ]
  },
  {
   "cell_type": "code",
   "execution_count": 1130,
   "id": "77dc2ca0",
   "metadata": {},
   "outputs": [],
   "source": [
    "class MyLR(LogisticRegression):\n",
    "    def __init__(self,pred_threshold=0.5,**kwargs):\n",
    "        super(MyLR,self).__init__(**kwargs)\n",
    "        self.pred_threshold = pred_threshold\n",
    "        \n",
    "    def predict(self,X,**kwargs):\n",
    "        result = super(MyLR, self).predict_proba(X, **kwargs)\n",
    "        predictions = [1 if p>self.pred_threshold else 0 for p in result[:,1]]\n",
    "        return predictions"
   ]
  },
  {
   "cell_type": "code",
   "execution_count": 1194,
   "id": "aece6baa",
   "metadata": {},
   "outputs": [],
   "source": [
    "def cross_val_score_th(clf,\n",
    "                       X_train_,\n",
    "                       y_train_,\n",
    "                       prediction_threshold,\n",
    "                       metric_fun,\n",
    "                       cv = 10,\n",
    "                       shuffle = True,\n",
    "                       random_state = 1\n",
    "                       ):\n",
    "    \n",
    "    X_train = X_train_.copy()\n",
    "    y_train = y_train_.copy()\n",
    "    \n",
    "    if isinstance(X_train,pd.DataFrame)|isinstance(X_train,pd.Series):\n",
    "        X_train = X_train.values\n",
    "        \n",
    "    if isinstance(y_train,pd.Series):\n",
    "        y_train = y_train.values\n",
    "        \n",
    "    kf = StratifiedKFold(n_splits=cv,shuffle = shuffle,random_state = random_state)\n",
    "    kf.get_n_splits(X_train)\n",
    "    \n",
    "    scores = []\n",
    "    for train_index, test_index in kf.split(X_train,y_train):\n",
    "        X_train_cv, X_test_cv = X_train[train_index], X_train[test_index]\n",
    "        y_train_cv, y_test_cv = y_train[train_index], y_train[test_index]\n",
    "        \n",
    "        clf.fit(X_train_cv,y_train_cv)\n",
    "        y_preds_proba = clf.predict_proba(X_test_cv)\n",
    "        y_preds = (y_preds_proba[:,1]>prediction_threshold)*1\n",
    "        \n",
    "        score = metric_fun(y_test_cv,y_preds)\n",
    "        \n",
    "        scores.append(score)\n",
    "        \n",
    "    return np.array(scores)\n",
    "\n",
    "\n",
    "cs = np.arange(0.01,3,0.1)\n",
    "ths = np.arange(.05,.9,0.05)\n",
    "hparams = [cs,ths]\n",
    "combs = list(product(*hparams))\n",
    "\n",
    "#na = df_stats_norm['f_ground_truth'].isna()\n",
    "X = df_stats_norm[[ 'record_id',\n",
    "                    'mouth_25%',\n",
    "                    'mouth_50%',\n",
    "                    'mouth_75%',\n",
    "                    'mouth_max',\n",
    "                    'mouth_p2a',\n",
    "                    #'mouth_p2m',\n",
    "                    #'pitch_mean',\n",
    "                    # 'pitch_max',\n",
    "                    #'yaw_mean',\n",
    "                    #'yaw_max'\n",
    "                       ]]\n",
    "\n",
    "y= df_stats_norm['f_ground_truth']\n",
    "\n",
    "X_train, X_test, y_train, y_test = train_test_split(X, y, test_size=0.2, random_state=42,stratify=y)\n",
    "\n",
    "\n",
    "scores = []\n",
    "for c,th in combs:\n",
    "\n",
    "    lr = LogisticRegression(C=c,\n",
    "              max_iter=1000,\n",
    "              random_state=1,\n",
    "              class_weight='balanced')\n",
    "\n",
    "    #lr.fit(X_train,y_train)\n",
    "\n",
    "    #preds =lr.predict(X_test)\n",
    "    \n",
    "    cv_scores = cross_val_score_th(lr,X_train.drop('record_id',axis=1),y_train,th,balanced_accuracy_score,cv=5)\n",
    "    mean_score = cv_scores.mean()\n",
    "    std_score = cv_scores.std()\n",
    "    scores.append(mean_score)\n",
    "    "
   ]
  },
  {
   "cell_type": "code",
   "execution_count": 1195,
   "id": "f16fdc45",
   "metadata": {},
   "outputs": [
    {
     "name": "stdout",
     "output_type": "stream",
     "text": [
      "(0.81, 0.4) 0.6566666666666665\n"
     ]
    }
   ],
   "source": [
    "best_comb_id = np.argmax(scores)\n",
    "print(combs[best_comb_id],scores[best_comb_id])\n",
    "\n",
    "\n",
    "best_c,best_th = combs[best_comb_id]"
   ]
  },
  {
   "cell_type": "code",
   "execution_count": 1196,
   "id": "cb9b7dc7",
   "metadata": {},
   "outputs": [
    {
     "data": {
      "text/plain": [
       "LogisticRegression(C=0.81, class_weight='balanced', max_iter=1000,\n",
       "                   random_state=1)"
      ]
     },
     "execution_count": 1196,
     "metadata": {},
     "output_type": "execute_result"
    }
   ],
   "source": [
    "lr = LogisticRegression(C=best_c,\n",
    "          max_iter=1000,\n",
    "          random_state=1,\n",
    "          class_weight='balanced')\n",
    "lr.fit(X_train.drop('record_id',axis=1),y_train)"
   ]
  },
  {
   "cell_type": "code",
   "execution_count": 1197,
   "id": "2fa961bb",
   "metadata": {},
   "outputs": [],
   "source": [
    "prediction_threshold = best_th\n",
    "y_preds = (lr.predict_proba(X_test.drop('record_id',axis=1))[:,1]>prediction_threshold)*1\n"
   ]
  },
  {
   "cell_type": "code",
   "execution_count": 1199,
   "id": "a763a68b",
   "metadata": {},
   "outputs": [
    {
     "name": "stdout",
     "output_type": "stream",
     "text": [
      "balanced_accuracy_score: 0.7857142857142857\n",
      "precision : 1.0\n",
      "sensitivity/recall : 0.5714285714285714\n",
      "specificity : 1.0\n"
     ]
    }
   ],
   "source": [
    "print('balanced_accuracy_score:',balanced_accuracy_score(y_test.values,y_preds))\n",
    "print('precision :',precision_score(y_test.values,y_preds))\n",
    "print('sensitivity/recall :',recall_score(y_test.values,y_preds))\n",
    "print('specificity :',recall_score(y_test.values,y_preds,pos_label=0))\n"
   ]
  },
  {
   "cell_type": "code",
   "execution_count": 1200,
   "id": "56460d42",
   "metadata": {},
   "outputs": [
    {
     "data": {
      "text/plain": [
       "array([0, 0, 1, 1, 0, 1, 0, 0, 1, 0])"
      ]
     },
     "execution_count": 1200,
     "metadata": {},
     "output_type": "execute_result"
    }
   ],
   "source": [
    "y_preds"
   ]
  },
  {
   "cell_type": "code",
   "execution_count": 1202,
   "id": "f1033b04",
   "metadata": {},
   "outputs": [
    {
     "data": {
      "text/plain": [
       "array([0., 0., 1., 1., 1., 1., 0., 1., 1., 1.])"
      ]
     },
     "execution_count": 1202,
     "metadata": {},
     "output_type": "execute_result"
    }
   ],
   "source": [
    "y_test.values"
   ]
  }
 ],
 "metadata": {
  "kernelspec": {
   "display_name": "Python 3",
   "language": "python",
   "name": "python3"
  },
  "language_info": {
   "codemirror_mode": {
    "name": "ipython",
    "version": 3
   },
   "file_extension": ".py",
   "mimetype": "text/x-python",
   "name": "python",
   "nbconvert_exporter": "python",
   "pygments_lexer": "ipython3",
   "version": "3.7.10"
  },
  "toc": {
   "base_numbering": 1,
   "nav_menu": {},
   "number_sections": true,
   "sideBar": true,
   "skip_h1_title": false,
   "title_cell": "Table of Contents",
   "title_sidebar": "Contents",
   "toc_cell": false,
   "toc_position": {},
   "toc_section_display": true,
   "toc_window_display": false
  }
 },
 "nbformat": 4,
 "nbformat_minor": 5
}
