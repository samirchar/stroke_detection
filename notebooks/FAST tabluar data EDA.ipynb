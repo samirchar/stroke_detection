{
 "cells": [
  {
   "cell_type": "code",
   "execution_count": 1,
   "id": "b3a02826",
   "metadata": {},
   "outputs": [],
   "source": [
    "import os\n",
    "import sys\n",
    "HOME = os.path.abspath('..')\n",
    "sys.path.append(HOME)\n",
    "os.chdir(HOME)\n",
    "import torchvision\n",
    "import dlib\n",
    "from PIL import Image\n",
    "from imutils import face_utils\n",
    "from src.data.dataprep_mediapipe import *\n",
    "from src.data.imgutils import *\n",
    "from src.features.features_extractors_mediapipe import *\n",
    "import pandas as pd\n",
    "import seaborn as sns"
   ]
  },
  {
   "cell_type": "code",
   "execution_count": 2,
   "id": "58372b55",
   "metadata": {},
   "outputs": [],
   "source": [
    "df = pd.read_csv('data/raw/FASTr_DATA_2022-02-18_1149.csv')\n",
    "\n",
    "#df = df.iloc[5:,:]"
   ]
  },
  {
   "cell_type": "code",
   "execution_count": 4,
   "id": "05164679",
   "metadata": {},
   "outputs": [
    {
     "data": {
      "text/html": [
       "<div>\n",
       "<style scoped>\n",
       "    .dataframe tbody tr th:only-of-type {\n",
       "        vertical-align: middle;\n",
       "    }\n",
       "\n",
       "    .dataframe tbody tr th {\n",
       "        vertical-align: top;\n",
       "    }\n",
       "\n",
       "    .dataframe thead th {\n",
       "        text-align: right;\n",
       "    }\n",
       "</style>\n",
       "<table border=\"1\" class=\"dataframe\">\n",
       "  <thead>\n",
       "    <tr style=\"text-align: right;\">\n",
       "      <th></th>\n",
       "      <th>b_ground_truth</th>\n",
       "      <th>e_ground_truth</th>\n",
       "      <th>f_ground_truth</th>\n",
       "      <th>a_ground_truth</th>\n",
       "      <th>s_ground_truth_2</th>\n",
       "      <th>variable</th>\n",
       "      <th>value</th>\n",
       "    </tr>\n",
       "  </thead>\n",
       "  <tbody>\n",
       "    <tr>\n",
       "      <th>0</th>\n",
       "      <td>NaN</td>\n",
       "      <td>NaN</td>\n",
       "      <td>NaN</td>\n",
       "      <td>NaN</td>\n",
       "      <td>NaN</td>\n",
       "      <td>diagnosis</td>\n",
       "      <td>NaN</td>\n",
       "    </tr>\n",
       "    <tr>\n",
       "      <th>1</th>\n",
       "      <td>NaN</td>\n",
       "      <td>NaN</td>\n",
       "      <td>NaN</td>\n",
       "      <td>NaN</td>\n",
       "      <td>NaN</td>\n",
       "      <td>diagnosis</td>\n",
       "      <td>1.0</td>\n",
       "    </tr>\n",
       "    <tr>\n",
       "      <th>2</th>\n",
       "      <td>0.0</td>\n",
       "      <td>0.0</td>\n",
       "      <td>1.0</td>\n",
       "      <td>1.0</td>\n",
       "      <td>1.0</td>\n",
       "      <td>diagnosis</td>\n",
       "      <td>1.0</td>\n",
       "    </tr>\n",
       "    <tr>\n",
       "      <th>3</th>\n",
       "      <td>NaN</td>\n",
       "      <td>0.0</td>\n",
       "      <td>1.0</td>\n",
       "      <td>1.0</td>\n",
       "      <td>1.0</td>\n",
       "      <td>diagnosis</td>\n",
       "      <td>1.0</td>\n",
       "    </tr>\n",
       "    <tr>\n",
       "      <th>4</th>\n",
       "      <td>NaN</td>\n",
       "      <td>0.0</td>\n",
       "      <td>0.0</td>\n",
       "      <td>0.0</td>\n",
       "      <td>0.0</td>\n",
       "      <td>diagnosis</td>\n",
       "      <td>1.0</td>\n",
       "    </tr>\n",
       "    <tr>\n",
       "      <th>...</th>\n",
       "      <td>...</td>\n",
       "      <td>...</td>\n",
       "      <td>...</td>\n",
       "      <td>...</td>\n",
       "      <td>...</td>\n",
       "      <td>...</td>\n",
       "      <td>...</td>\n",
       "    </tr>\n",
       "    <tr>\n",
       "      <th>70</th>\n",
       "      <td>NaN</td>\n",
       "      <td>NaN</td>\n",
       "      <td>NaN</td>\n",
       "      <td>NaN</td>\n",
       "      <td>NaN</td>\n",
       "      <td>diagnosis</td>\n",
       "      <td>0.0</td>\n",
       "    </tr>\n",
       "    <tr>\n",
       "      <th>71</th>\n",
       "      <td>0.0</td>\n",
       "      <td>0.0</td>\n",
       "      <td>1.0</td>\n",
       "      <td>1.0</td>\n",
       "      <td>0.0</td>\n",
       "      <td>diagnosis</td>\n",
       "      <td>1.0</td>\n",
       "    </tr>\n",
       "    <tr>\n",
       "      <th>72</th>\n",
       "      <td>0.0</td>\n",
       "      <td>0.0</td>\n",
       "      <td>1.0</td>\n",
       "      <td>0.0</td>\n",
       "      <td>1.0</td>\n",
       "      <td>diagnosis</td>\n",
       "      <td>1.0</td>\n",
       "    </tr>\n",
       "    <tr>\n",
       "      <th>73</th>\n",
       "      <td>NaN</td>\n",
       "      <td>NaN</td>\n",
       "      <td>NaN</td>\n",
       "      <td>NaN</td>\n",
       "      <td>NaN</td>\n",
       "      <td>diagnosis</td>\n",
       "      <td>0.0</td>\n",
       "    </tr>\n",
       "    <tr>\n",
       "      <th>74</th>\n",
       "      <td>NaN</td>\n",
       "      <td>NaN</td>\n",
       "      <td>NaN</td>\n",
       "      <td>NaN</td>\n",
       "      <td>NaN</td>\n",
       "      <td>diagnosis</td>\n",
       "      <td>0.0</td>\n",
       "    </tr>\n",
       "  </tbody>\n",
       "</table>\n",
       "<p>75 rows × 7 columns</p>\n",
       "</div>"
      ],
      "text/plain": [
       "    b_ground_truth  e_ground_truth  f_ground_truth  a_ground_truth  \\\n",
       "0              NaN             NaN             NaN             NaN   \n",
       "1              NaN             NaN             NaN             NaN   \n",
       "2              0.0             0.0             1.0             1.0   \n",
       "3              NaN             0.0             1.0             1.0   \n",
       "4              NaN             0.0             0.0             0.0   \n",
       "..             ...             ...             ...             ...   \n",
       "70             NaN             NaN             NaN             NaN   \n",
       "71             0.0             0.0             1.0             1.0   \n",
       "72             0.0             0.0             1.0             0.0   \n",
       "73             NaN             NaN             NaN             NaN   \n",
       "74             NaN             NaN             NaN             NaN   \n",
       "\n",
       "    s_ground_truth_2   variable  value  \n",
       "0                NaN  diagnosis    NaN  \n",
       "1                NaN  diagnosis    1.0  \n",
       "2                1.0  diagnosis    1.0  \n",
       "3                1.0  diagnosis    1.0  \n",
       "4                0.0  diagnosis    1.0  \n",
       "..               ...        ...    ...  \n",
       "70               NaN  diagnosis    0.0  \n",
       "71               0.0  diagnosis    1.0  \n",
       "72               1.0  diagnosis    1.0  \n",
       "73               NaN  diagnosis    0.0  \n",
       "74               NaN  diagnosis    0.0  \n",
       "\n",
       "[75 rows x 7 columns]"
      ]
     },
     "execution_count": 4,
     "metadata": {},
     "output_type": "execute_result"
    }
   ],
   "source": [
    "df.melt(id_vars = ['b_ground_truth','e_ground_truth','f_ground_truth','a_ground_truth','s_ground_truth_2'],\n",
    "        value_vars=['diagnosis'])"
   ]
  },
  {
   "cell_type": "code",
   "execution_count": 61,
   "id": "695510ba",
   "metadata": {},
   "outputs": [
    {
     "data": {
      "text/html": [
       "<div>\n",
       "<style scoped>\n",
       "    .dataframe tbody tr th:only-of-type {\n",
       "        vertical-align: middle;\n",
       "    }\n",
       "\n",
       "    .dataframe tbody tr th {\n",
       "        vertical-align: top;\n",
       "    }\n",
       "\n",
       "    .dataframe thead th {\n",
       "        text-align: right;\n",
       "    }\n",
       "</style>\n",
       "<table border=\"1\" class=\"dataframe\">\n",
       "  <thead>\n",
       "    <tr style=\"text-align: right;\">\n",
       "      <th></th>\n",
       "      <th>b_ground_truth</th>\n",
       "      <th>e_ground_truth</th>\n",
       "      <th>f_ground_truth</th>\n",
       "      <th>a_ground_truth</th>\n",
       "      <th>s_ground_truth_2</th>\n",
       "    </tr>\n",
       "    <tr>\n",
       "      <th>diagnosis</th>\n",
       "      <th></th>\n",
       "      <th></th>\n",
       "      <th></th>\n",
       "      <th></th>\n",
       "      <th></th>\n",
       "    </tr>\n",
       "  </thead>\n",
       "  <tbody>\n",
       "    <tr>\n",
       "      <th>0.0</th>\n",
       "      <td>NaN</td>\n",
       "      <td>NaN</td>\n",
       "      <td>NaN</td>\n",
       "      <td>NaN</td>\n",
       "      <td>NaN</td>\n",
       "    </tr>\n",
       "    <tr>\n",
       "      <th>1.0</th>\n",
       "      <td>0.688889</td>\n",
       "      <td>0.106383</td>\n",
       "      <td>0.659574</td>\n",
       "      <td>0.893617</td>\n",
       "      <td>0.382979</td>\n",
       "    </tr>\n",
       "  </tbody>\n",
       "</table>\n",
       "</div>"
      ],
      "text/plain": [
       "           b_ground_truth  e_ground_truth  f_ground_truth  a_ground_truth  \\\n",
       "diagnosis                                                                   \n",
       "0.0                   NaN             NaN             NaN             NaN   \n",
       "1.0              0.688889        0.106383        0.659574        0.893617   \n",
       "\n",
       "           s_ground_truth_2  \n",
       "diagnosis                    \n",
       "0.0                     NaN  \n",
       "1.0                0.382979  "
      ]
     },
     "execution_count": 61,
     "metadata": {},
     "output_type": "execute_result"
    }
   ],
   "source": [
    "deficits = ['b_ground_truth','e_ground_truth','f_ground_truth','a_ground_truth','s_ground_truth_2']\n",
    "df.groupby('diagnosis')[deficits].mean()"
   ]
  },
  {
   "cell_type": "code",
   "execution_count": 8,
   "id": "81b3c8cd",
   "metadata": {},
   "outputs": [
    {
     "data": {
      "text/plain": [
       "f_ground_truth    0.66\n",
       "diagnosis         1.00\n",
       "dtype: float64"
      ]
     },
     "execution_count": 8,
     "metadata": {},
     "output_type": "execute_result"
    }
   ],
   "source": [
    "df.loc[~df['f_ground_truth'].isna(),['f_ground_truth','diagnosis']]"
   ]
  },
  {
   "cell_type": "code",
   "execution_count": 62,
   "id": "439b0f90",
   "metadata": {},
   "outputs": [],
   "source": [
    "left_arm_cols = [i for i in df.columns if 'l_lap' in i]\n",
    "right_arm_cols = [i for i in df.columns if 'r_lap' in i]\n",
    "arm_cols = right_arm_cols+left_arm_cols"
   ]
  },
  {
   "cell_type": "code",
   "execution_count": 63,
   "id": "968b712c",
   "metadata": {},
   "outputs": [],
   "source": [
    "df[arm_cols] = df[arm_cols].replace(0,np.nan)"
   ]
  },
  {
   "cell_type": "code",
   "execution_count": 64,
   "id": "39085c56",
   "metadata": {},
   "outputs": [],
   "source": [
    "df['l_lap_mean'] = df[left_arm_cols].mean(axis=1)\n",
    "df['r_lap_mean'] = df[right_arm_cols].mean(axis=1)"
   ]
  },
  {
   "cell_type": "code",
   "execution_count": 71,
   "id": "811fc5d9",
   "metadata": {},
   "outputs": [],
   "source": [
    "df['lap_mean_abs_diff']=(df['r_lap_mean']-df['l_lap_mean']).abs()"
   ]
  },
  {
   "cell_type": "code",
   "execution_count": 76,
   "id": "e67fa4d2",
   "metadata": {},
   "outputs": [
    {
     "data": {
      "image/png": "[encoded data removed]",
      "text/plain": [
       "<Figure size 432x288 with 1 Axes>"
      ]
     },
     "metadata": {
      "needs_background": "light"
     },
     "output_type": "display_data"
    }
   ],
   "source": [
    "sns.boxplot(data = df,y ='lap_mean_abs_diff',x ='diagnosis')\n",
    "plt.yscale('log')"
   ]
  },
  {
   "cell_type": "code",
   "execution_count": 99,
   "id": "01e6b091",
   "metadata": {},
   "outputs": [
    {
     "data": {
      "text/plain": [
       "0.035199999999999995"
      ]
     },
     "execution_count": 99,
     "metadata": {},
     "output_type": "execute_result"
    }
   ],
   "source": [
    "df.loc[df['diagnosis']==0,'lap_mean_abs_diff'].quantile(0.7)"
   ]
  },
  {
   "cell_type": "code",
   "execution_count": 114,
   "id": "793abffa",
   "metadata": {},
   "outputs": [],
   "source": [
    "th=0.045\n",
    "df.loc[df['lap_mean_abs_diff']>th,'pred']=1\n",
    "df.loc[df['lap_mean_abs_diff']<=th,'pred']=0"
   ]
  },
  {
   "cell_type": "code",
   "execution_count": 115,
   "id": "bdc51c2c",
   "metadata": {},
   "outputs": [
    {
     "data": {
      "text/plain": [
       "0.6428571428571429"
      ]
     },
     "execution_count": 115,
     "metadata": {},
     "output_type": "execute_result"
    }
   ],
   "source": [
    "(df['diagnosis']==df['pred']).mean()"
   ]
  },
  {
   "cell_type": "code",
   "execution_count": 68,
   "id": "f097c135",
   "metadata": {},
   "outputs": [
    {
     "data": {
      "text/plain": [
       "(0.0, 2.0)"
      ]
     },
     "execution_count": 68,
     "metadata": {},
     "output_type": "execute_result"
    },
    {
     "data": {
      "image/png": "[encoded data removed]",
      "text/plain": [
       "<Figure size 432x288 with 1 Axes>"
      ]
     },
     "metadata": {
      "needs_background": "light"
     },
     "output_type": "display_data"
    }
   ],
   "source": [
    "sns.scatterplot(data = df,x ='l_lap_mean',y ='r_lap_mean' ,marker='.',hue = 'diagnosis')\n",
    "plt.xlim(0,2)\n",
    "plt.ylim(0,2)"
   ]
  },
  {
   "cell_type": "code",
   "execution_count": null,
   "id": "1fd3362f",
   "metadata": {},
   "outputs": [],
   "source": []
  }
 ],
 "metadata": {
  "interpreter": {
   "hash": "40d3a090f54c6569ab1632332b64b2c03c39dcf918b08424e98f38b5ae0af88f"
  },
  "kernelspec": {
   "display_name": "Python [conda env:root] *",
   "language": "python",
   "name": "python3"
  },
  "language_info": {
   "codemirror_mode": {
    "name": "ipython",
    "version": 3
   },
   "file_extension": ".py",
   "mimetype": "text/x-python",
   "name": "python",
   "nbconvert_exporter": "python",
   "pygments_lexer": "ipython3",
   "version": "3.7.10"
  }
 },
 "nbformat": 4,
 "nbformat_minor": 5
}
